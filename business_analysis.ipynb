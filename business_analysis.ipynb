{
 "cells": [
  {
   "cell_type": "markdown",
   "id": "e1906478-bbc5-4bb7-b69b-55f1ad38d113",
   "metadata": {},
   "source": [
    "# Business Location Data Analysis"
   ]
  },
  {
   "cell_type": "markdown",
   "id": "87a99133-7227-4358-9e49-09941619978d",
   "metadata": {},
   "source": [
    "### Imports"
   ]
  },
  {
   "cell_type": "code",
   "execution_count": null,
   "id": "b95ce49d-3e0a-4d1f-a557-4274b92fd9fa",
   "metadata": {},
   "outputs": [],
   "source": [
    "import pandas as pd\n",
    "import requests\n",
    "import time\n",
    "import configparser"
   ]
  },
  {
   "cell_type": "markdown",
   "id": "00407bff-933b-4012-841d-906b8381795f",
   "metadata": {},
   "source": [
    "### Constants"
   ]
  },
  {
   "cell_type": "code",
   "execution_count": null,
   "id": "a72ecc04-dde2-443c-b47a-fe114c7cdad2",
   "metadata": {},
   "outputs": [],
   "source": [
    "# Read Config file\n",
    "config = configparser.ConfigParser()\n",
    "config.read('config.ini')"
   ]
  },
  {
   "cell_type": "code",
   "execution_count": null,
   "id": "372f299c-ce02-4226-a70d-a0acf932e4a1",
   "metadata": {},
   "outputs": [],
   "source": [
    "# Parameter for API call - adjust as needed\n",
    "RADIUS = 5000\n",
    "\n",
    "# Get private params from config\n",
    "API_KEY = config['DETAILS']['API_KEY']\n",
    "LOCATION = config['DETAILS']['LOCATION']"
   ]
  },
  {
   "cell_type": "markdown",
   "id": "88fcc653-adfe-4934-b329-b22b2d6aefa5",
   "metadata": {},
   "source": [
    "### Define Functions"
   ]
  },
  {
   "cell_type": "code",
   "execution_count": null,
   "id": "5a4c4b53-dfce-47f4-84cd-8f74351a8b69",
   "metadata": {},
   "outputs": [],
   "source": [
    "def make_request(api_key, location, radius):\n",
    "    \n",
    "    '''\n",
    "    Makes a request to Place Details API\n",
    "    Returns:\n",
    "        Dataframe with up to 60 results\n",
    "    Parameters:\n",
    "        api_key (str): API key defined with Google Account\n",
    "        location (str): Latitude and longitude values for centre of search\n",
    "        radius (int): Meters around location to search\n",
    "    '''\n",
    "    \n",
    "    # Constants\n",
    "    # Admin Params - keep empty as we are using GET method\n",
    "    PAYLOAD = {}\n",
    "    HEADERS = {}\n",
    "    # Keep output_type as json\n",
    "    OUTPUT_TYPE = 'json'\n",
    "    \n",
    "    # Define URL for API call\n",
    "    url = f'https://maps.googleapis.com/maps/api/place/nearbysearch/{OUTPUT_TYPE}?location={location}&radius={radius}&key={api_key}'\n",
    "    \n",
    "    # Get first page of response\n",
    "    response = requests.request('GET', url, headers=HEADERS, data=PAYLOAD)\n",
    "    \n",
    "    # Save into a dataframe\n",
    "    json = response.json()\n",
    "    df = pd.DataFrame(json['results'])\n",
    "    \n",
    "    # See if there is a next page of 20 results\n",
    "    if 'next_page_token' in json.keys():\n",
    "        \n",
    "        # Wait 2 seconds to allow Google to validate next_page_token\n",
    "        time.sleep(2)\n",
    "        \n",
    "        page_token = json['next_page_token']\n",
    "        url = f'https://maps.googleapis.com/maps/api/place/nearbysearch/{OUTPUT_TYPE}?location={location}&radius={radius}&pagetoken={page_token}&key={api_key}'\n",
    "        \n",
    "        response = requests.request('GET', url, headers=HEADERS, data=PAYLOAD)\n",
    "        \n",
    "        json = response.json()\n",
    "        df_2 = pd.DataFrame(json['results'])\n",
    "        \n",
    "        if 'next_page_token' in json.keys():\n",
    "            \n",
    "            time.sleep(2)\n",
    "        \n",
    "            page_token = json['next_page_token']\n",
    "            url = f'https://maps.googleapis.com/maps/api/place/nearbysearch/{OUTPUT_TYPE}?location={LOCATION}&radius={RADIUS}&pagetoken={page_token}&key={API_KEY}'\n",
    "\n",
    "            response = requests.request('GET', url, headers=HEADERS, data=PAYLOAD)\n",
    "\n",
    "            json = response.json()\n",
    "            df_3 = pd.DataFrame(json['results'])\n",
    "    \n",
    "    # Join all dataframes and return result\n",
    "    all_df = pd.concat([df, df_2, df_3])\n",
    "    \n",
    "    return all_df"
   ]
  },
  {
   "cell_type": "code",
   "execution_count": null,
   "id": "5da263f5-fe06-4324-ae5a-3d85f222699a",
   "metadata": {},
   "outputs": [],
   "source": [
    "results = make_request(API_KEY, LOCATION, RADIUS)"
   ]
  },
  {
   "cell_type": "code",
   "execution_count": null,
   "id": "b271bfc0-b381-44b6-be48-55e52053cfa3",
   "metadata": {},
   "outputs": [],
   "source": [
    "results"
   ]
  },
  {
   "cell_type": "markdown",
   "id": "5b1374eb-dd54-4fa6-93e0-e08d0547a716",
   "metadata": {},
   "source": [
    "## Clean Data\n",
    "1. Check for duplicates & reset index\n",
    "2. Seperate lat and long cols\n",
    "3. One Hot Encode type?\n"
   ]
  },
  {
   "cell_type": "code",
   "execution_count": null,
   "id": "7ea7e5e0-1d44-4398-8c63-4b8368ac7622",
   "metadata": {},
   "outputs": [],
   "source": [
    "len(results)"
   ]
  },
  {
   "cell_type": "code",
   "execution_count": null,
   "id": "ed3776d2-b81c-4f95-b543-f256e69ab64a",
   "metadata": {},
   "outputs": [],
   "source": [
    "results['name'].duplicated()"
   ]
  },
  {
   "cell_type": "markdown",
   "id": "4091b825-1bfb-4663-8d98-15efd587f47e",
   "metadata": {},
   "source": [
    "## Analysis\n",
    "- Count by type\n",
    "- Visualise on map by type\n",
    "- Identify categories of interest\n",
    "- Ratings & number of reviews of those categories\n",
    "- Visualise by type where category of interest\n",
    "- Use Place Details Atmosphere to get more details on locations of interest\n",
    "- Re-run for different radiuses and locations that customers may come from - stretham, haddenham, witchford, cottenham"
   ]
  }
 ],
 "metadata": {
  "kernelspec": {
   "display_name": "Python 3 (ipykernel)",
   "language": "python",
   "name": "python3"
  },
  "language_info": {
   "codemirror_mode": {
    "name": "ipython",
    "version": 3
   },
   "file_extension": ".py",
   "mimetype": "text/x-python",
   "name": "python",
   "nbconvert_exporter": "python",
   "pygments_lexer": "ipython3",
   "version": "3.9.12"
  }
 },
 "nbformat": 4,
 "nbformat_minor": 5
}
