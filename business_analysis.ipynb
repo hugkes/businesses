{
 "cells": [
  {
   "cell_type": "markdown",
   "id": "e1906478-bbc5-4bb7-b69b-55f1ad38d113",
   "metadata": {},
   "source": [
    "# Business Location Data Analysis"
   ]
  },
  {
   "cell_type": "markdown",
   "id": "87a99133-7227-4358-9e49-09941619978d",
   "metadata": {},
   "source": [
    "### Imports"
   ]
  },
  {
   "cell_type": "code",
   "execution_count": null,
   "id": "b95ce49d-3e0a-4d1f-a557-4274b92fd9fa",
   "metadata": {},
   "outputs": [],
   "source": [
    "# Packages\n",
    "import pandas as pd\n",
    "import configparser\n",
    "import importlib\n",
    "from sklearn.preprocessing import MultiLabelBinarizer\n",
    "\n",
    "# Module\n",
    "import funcs\n",
    "importlib.reload(funcs)"
   ]
  },
  {
   "cell_type": "markdown",
   "id": "00407bff-933b-4012-841d-906b8381795f",
   "metadata": {},
   "source": [
    "### Constants"
   ]
  },
  {
   "cell_type": "code",
   "execution_count": null,
   "id": "a72ecc04-dde2-443c-b47a-fe114c7cdad2",
   "metadata": {},
   "outputs": [],
   "source": [
    "# Read Config file\n",
    "config = configparser.ConfigParser()\n",
    "config.read('config.ini')"
   ]
  },
  {
   "cell_type": "code",
   "execution_count": null,
   "id": "372f299c-ce02-4226-a70d-a0acf932e4a1",
   "metadata": {},
   "outputs": [],
   "source": [
    "# Parameter for API call - adjust as needed\n",
    "# Distance in meters from location specified to search\n",
    "RADIUS = 10000\n",
    "# OR use rankby and type\n",
    "RANKBY = None\n",
    "# Filter by type of place\n",
    "TYPE = 'cafe'\n",
    "\n",
    "# Get private params from config\n",
    "API_KEY = config['DETAILS']['API_KEY']\n",
    "LOCATION = config['DETAILS']['LOCATION']\n",
    "\n",
    "# Not needed columns\n",
    "DROP_COLS = ['icon', 'icon_background_color', 'icon_mask_base_uri', 'photos', 'reference', 'scope', 'plus_code']"
   ]
  },
  {
   "cell_type": "markdown",
   "id": "88fcc653-adfe-4934-b329-b22b2d6aefa5",
   "metadata": {
    "tags": []
   },
   "source": [
    "### Make API Call"
   ]
  },
  {
   "cell_type": "code",
   "execution_count": null,
   "id": "5da263f5-fe06-4324-ae5a-3d85f222699a",
   "metadata": {},
   "outputs": [],
   "source": [
    "results = funcs.make_request(API_KEY, LOCATION, radius = RADIUS, typ = TYPE, rankby = RANKBY)"
   ]
  },
  {
   "cell_type": "code",
   "execution_count": null,
   "id": "a7837697-aced-4274-ac2a-f5483b48ae91",
   "metadata": {},
   "outputs": [],
   "source": [
    "# Take a look at the data\n",
    "results"
   ]
  },
  {
   "cell_type": "markdown",
   "id": "5b1374eb-dd54-4fa6-93e0-e08d0547a716",
   "metadata": {},
   "source": [
    "## Clean Data"
   ]
  },
  {
   "cell_type": "code",
   "execution_count": null,
   "id": "7ea7e5e0-1d44-4398-8c63-4b8368ac7622",
   "metadata": {},
   "outputs": [],
   "source": [
    "# Check how many results we have\n",
    "len(results)"
   ]
  },
  {
   "cell_type": "code",
   "execution_count": null,
   "id": "ed3776d2-b81c-4f95-b543-f256e69ab64a",
   "metadata": {},
   "outputs": [],
   "source": [
    "# Return duplicated places\n",
    "results[results['name'].duplicated()]"
   ]
  },
  {
   "cell_type": "code",
   "execution_count": null,
   "id": "e96926a7-87b0-4f65-945c-2d23bdead14d",
   "metadata": {},
   "outputs": [],
   "source": [
    "# Reset Index\n",
    "results = results.reset_index(drop=True)"
   ]
  },
  {
   "cell_type": "code",
   "execution_count": null,
   "id": "cc18482c-9672-4246-a342-d6fc35542b16",
   "metadata": {},
   "outputs": [],
   "source": [
    "# Drop columns we don't need\n",
    "results = results.drop(DROP_COLS, axis=1)"
   ]
  },
  {
   "cell_type": "code",
   "execution_count": null,
   "id": "b318e8a5-74a2-417b-af90-8a0158b187e5",
   "metadata": {},
   "outputs": [],
   "source": [
    "# Seperate latitude and logitude values in geometery column into two columns\n",
    "results['lat'] = results['geometry'].apply(lambda x: x['location']['lat'])\n",
    "results['long'] = results['geometry'].apply(lambda x: x['location']['lng'])\n",
    "\n",
    "# Drop geometry column\n",
    "results = results.drop('geometry', axis=1)"
   ]
  },
  {
   "cell_type": "code",
   "execution_count": null,
   "id": "1be64c36-a180-4c63-babe-ed332648e9ab",
   "metadata": {},
   "outputs": [],
   "source": [
    "# Convert types column to one hot encoded columns\n",
    "mlb = MultiLabelBinarizer(sparse_output=True)\n",
    "\n",
    "df = results.join(\n",
    "            pd.DataFrame.sparse.from_spmatrix(\n",
    "                mlb.fit_transform(results.pop('types')),\n",
    "                index=results.index,\n",
    "                columns=mlb.classes_))"
   ]
  },
  {
   "cell_type": "code",
   "execution_count": null,
   "id": "199cbd61-e365-4057-88d6-c1d0e90ab7f6",
   "metadata": {},
   "outputs": [],
   "source": [
    "df"
   ]
  },
  {
   "cell_type": "markdown",
   "id": "4091b825-1bfb-4663-8d98-15efd587f47e",
   "metadata": {},
   "source": [
    "## Analysis\n",
    "- Count by type\n",
    "- Distance from location\n",
    "- Visualise on map by type\n",
    "- Identify categories of interest\n",
    "- Ratings & number of reviews of those categories\n",
    "- Visualise by type where category of interest\n",
    "- Use Place Details Atmosphere to get more details on locations of interest\n",
    "- Re-run for different radiuses and locations that customers may come from - stretham, haddenham, witchford, cottenham\n",
    "- Get population & demographic data - use schools, old peoples homes etc and search for public datasets"
   ]
  },
  {
   "cell_type": "code",
   "execution_count": null,
   "id": "aef7a4da-29cc-480e-83e1-4c5cd1b5acea",
   "metadata": {},
   "outputs": [],
   "source": [
    "# Get columns of types\n",
    "types_columns = df.loc[:,'long':]\n",
    "types_columns = types_columns.drop('long', axis=1)\n",
    "types_columns = types_columns.columns"
   ]
  },
  {
   "cell_type": "code",
   "execution_count": null,
   "id": "41401454-7d52-4d33-bda9-1d44cde69bc1",
   "metadata": {},
   "outputs": [],
   "source": [
    "# Value counts of types\n",
    "df[types_columns].sum()"
   ]
  },
  {
   "cell_type": "markdown",
   "id": "5b7e5ece-8961-4e59-bdc8-3992c5a39ebc",
   "metadata": {},
   "source": [
    "## Export Data\n",
    "Export the dataframe to a csv for further analysis. Title it by the parameters used for the search"
   ]
  },
  {
   "cell_type": "code",
   "execution_count": null,
   "id": "6e3e9073-4ee5-47b7-8d85-3dfb968a5b13",
   "metadata": {},
   "outputs": [],
   "source": [
    "# Name of csv\n",
    "csv_name = f'results_{RADIUS}_{TYPE}.csv'\n",
    "df.to_csv(csv_name, float_format='%.2f')"
   ]
  }
 ],
 "metadata": {
  "kernelspec": {
   "display_name": "Python 3 (ipykernel)",
   "language": "python",
   "name": "python3"
  },
  "language_info": {
   "codemirror_mode": {
    "name": "ipython",
    "version": 3
   },
   "file_extension": ".py",
   "mimetype": "text/x-python",
   "name": "python",
   "nbconvert_exporter": "python",
   "pygments_lexer": "ipython3",
   "version": "3.9.12"
  }
 },
 "nbformat": 4,
 "nbformat_minor": 5
}
